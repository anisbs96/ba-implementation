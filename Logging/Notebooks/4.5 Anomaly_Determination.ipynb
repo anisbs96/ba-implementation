{
 "cells": [
  {
   "cell_type": "markdown",
   "metadata": {},
   "source": [
    "# 4.5 Anomaly Determination"
   ]
  },
  {
   "cell_type": "code",
   "execution_count": null,
   "metadata": {},
   "outputs": [],
   "source": [
    "# !pip install pandas\n",
    "import pandas as pd"
   ]
  },
  {
   "cell_type": "code",
   "execution_count": null,
   "metadata": {},
   "outputs": [],
   "source": [
    "# Logs Path\n",
    "path_to_logs = '../Results/Log_Generalization/'\n",
    "# Load the logs from a CSV file\n",
    "file_path = '4.4.4-enriched_logs.csv'\n",
    "determination_logs_df = pd.read_csv(path_to_logs + file_path)\n",
    "# Dictionary of critical keywords to check in log messages\n",
    "keywords = ['error', 'timeout', 'timed out', 'exception', 'fail', 'critical', 'fatal', 'shut', 'down', 'crash', 'lost', 'stop', 'close','cannot', 'could not','terminat', 'cancel', 'end']"
   ]
  },
  {
   "cell_type": "markdown",
   "metadata": {},
   "source": [
    "## 4.5.1 Decision Tree"
   ]
  },
  {
   "cell_type": "markdown",
   "metadata": {},
   "source": [
    "### Severity Check"
   ]
  },
  {
   "cell_type": "code",
   "execution_count": null,
   "metadata": {},
   "outputs": [],
   "source": [
    "# Step 1: Severity Check\n",
    "# Is 'severity_level' attribute ERROR, FATAL or WARN\n",
    "# If yes, move to keyword check\n",
    "# If no, move to frequency change check \n",
    "def severity_check(log_row):\n",
    "    if log_row['severity_level'] in ['ERROR', 'FATAL', 'WARN']:\n",
    "        return keyword_check(log_row, keywords)\n",
    "    else:\n",
    "        return frequency_change_check(log_row)"
   ]
  },
  {
   "cell_type": "markdown",
   "metadata": {},
   "source": [
    "### Keyword Presence Check"
   ]
  },
  {
   "cell_type": "code",
   "execution_count": null,
   "metadata": {},
   "outputs": [],
   "source": [
    "# Step 2: Keyword Presence Check\n",
    "# Are defined keywords present in log\n",
    "# If yes, move to component specific check\n",
    "# If no, move to frequency change check\n",
    "def keyword_check(log_row, keywords):\n",
    "    message = log_row['templated_message'].lower() \n",
    "    \n",
    "    if any(keyword in message for keyword in keywords):\n",
    "        return component_specific_check(log_row)\n",
    "    else:\n",
    "        return frequency_change_check(log_row)"
   ]
  },
  {
   "cell_type": "markdown",
   "metadata": {},
   "source": [
    "### Component Specific Check"
   ]
  },
  {
   "cell_type": "code",
   "execution_count": null,
   "metadata": {},
   "outputs": [],
   "source": [
    "# Step 3: Component-Specific Check\n",
    "# Is 'component-specific' attribute present in log\n",
    "# If yes, move to fault specific check\n",
    "# If no, move to frequency change check\n",
    "def component_specific_check(log_row):\n",
    "    if log_row['component-specific']:\n",
    "        return fault_specific_check(log_row)\n",
    "    else:\n",
    "        return frequency_change_check(log_row)"
   ]
  },
  {
   "cell_type": "markdown",
   "metadata": {},
   "source": [
    "### Fault Specific Check"
   ]
  },
  {
   "cell_type": "code",
   "execution_count": null,
   "metadata": {},
   "outputs": [],
   "source": [
    "# Step 4: Fault-Specific Check\n",
    "#  Is log specific to one fault\n",
    "#  If true, determine as anomaly\n",
    "#  If false, move to frequency change check\n",
    "def fault_specific_check(log_row):\n",
    "    if log_row['fault-specific']:\n",
    "        return 'Anomaly-FS'\n",
    "    else:\n",
    "        return frequency_change_check(log_row)"
   ]
  },
  {
   "cell_type": "markdown",
   "metadata": {},
   "source": [
    "### Frequency Change Check"
   ]
  },
  {
   "cell_type": "code",
   "execution_count": null,
   "metadata": {},
   "outputs": [],
   "source": [
    "# Step 5: Frequency Change Check\n",
    "# Is positive frequency change\n",
    "# If yes, determine as anomaly\n",
    "# If no, move to crash phase check\n",
    "def frequency_change_check(log_row):\n",
    "    if log_row['frequency_change'] > 1:\n",
    "        return 'Anomaly-FC'\n",
    "    else:\n",
    "        return crash_phase_check(log_row)"
   ]
  },
  {
   "cell_type": "markdown",
   "metadata": {},
   "source": [
    "### Crash Phase Check"
   ]
  },
  {
   "cell_type": "code",
   "execution_count": null,
   "metadata": {},
   "outputs": [],
   "source": [
    "# Step 6: Crash/Recovery Phase Check\n",
    "# Did log occur during crash phase\n",
    "# If yes, move to rarity check\n",
    "# If no, determine as normal\n",
    "def crash_phase_check(log_row):\n",
    "    if log_row['phase'] == 'crash':\n",
    "        return rarity_check(log_row)\n",
    "    else:\n",
    "        return 'Normal-CP'"
   ]
  },
  {
   "cell_type": "markdown",
   "metadata": {},
   "source": [
    "### Rarity Check"
   ]
  },
  {
   "cell_type": "code",
   "execution_count": null,
   "metadata": {},
   "outputs": [],
   "source": [
    "# Step 7: Rarity Check\n",
    "# Is log rare\n",
    "# If yes, determine as anomaly\n",
    "# If no, determine as normal\n",
    "def rarity_check(log_row):\n",
    "    if log_row['rare']:\n",
    "        return 'Anomaly-RC'\n",
    "    else:\n",
    "        return 'Normal-RC'"
   ]
  },
  {
   "cell_type": "markdown",
   "metadata": {},
   "source": [
    "## 4.5.2 Determination "
   ]
  },
  {
   "cell_type": "code",
   "execution_count": null,
   "metadata": {},
   "outputs": [],
   "source": [
    "# Start the decision tree process\n",
    "def decision_tree(log_row):\n",
    "    \"\"\"\n",
    "    The main function to initiate the decision tree process by starting with severity check.\n",
    "    \"\"\"\n",
    "    return severity_check(log_row)\n",
    "\n",
    "# Usage\n",
    "determination_logs_df['determination'] = determination_logs_df.apply(decision_tree, axis=1)\n",
    "columns = ['determination'] + [col for col in determination_logs_df.columns if col != 'determination']\n",
    "determination_logs_df = determination_logs_df[columns]\n",
    "\n",
    "determination_logs_df.head()"
   ]
  },
  {
   "cell_type": "markdown",
   "metadata": {},
   "source": [
    "# Export Results"
   ]
  },
  {
   "cell_type": "code",
   "execution_count": null,
   "metadata": {},
   "outputs": [],
   "source": [
    "# Export result to CSV file\n",
    "determination_logs_df.to_csv('../Results/Anomaly_Determination/' + '4.5-determination_logs.csv', index=False)"
   ]
  }
 ],
 "metadata": {
  "kernelspec": {
   "display_name": "base",
   "language": "python",
   "name": "python3"
  },
  "language_info": {
   "codemirror_mode": {
    "name": "ipython",
    "version": 3
   },
   "file_extension": ".py",
   "mimetype": "text/x-python",
   "name": "python",
   "nbconvert_exporter": "python",
   "pygments_lexer": "ipython3",
   "version": "3.12.4"
  }
 },
 "nbformat": 4,
 "nbformat_minor": 2
}
